{
 "cells": [
  {
   "cell_type": "markdown",
   "metadata": {},
   "source": [
    "Análise de Acidentes nas Rodovias Federais entre os anos de 2007 à 2020"
   ]
  },
  {
   "cell_type": "code",
   "execution_count": 31,
   "metadata": {},
   "outputs": [],
   "source": [
    "import numpy as np\n",
    "import matplotlib.pyplot as plt\n",
    "import pandas as pd\n",
    "import seaborn as sns"
   ]
  },
  {
   "cell_type": "code",
   "execution_count": 32,
   "metadata": {},
   "outputs": [],
   "source": [
    "#Definindo estilo de gráfico\n",
    "sns.set(color_codes=True)\n",
    "sns.set_context(\"paper\",font_scale=2)\n",
    "sns.set_style(\"white\")"
   ]
  },
  {
   "cell_type": "code",
   "execution_count": 33,
   "metadata": {},
   "outputs": [
    {
     "name": "stderr",
     "output_type": "stream",
     "text": [
      "C:\\Users\\Caio Cezar\\AppData\\Local\\Temp\\ipykernel_19668\\2523134434.py:1: DtypeWarning: Columns (6) have mixed types. Specify dtype option on import or set low_memory=False.\n",
      "  data = pd.read_csv(\"Dataset/acidentes2007-2020.csv\",usecols=[3,4,5,6,8,10,12,14,15])\n"
     ]
    },
    {
     "data": {
      "text/plain": [
       "dia_semana                object\n",
       "horario                   object\n",
       "uf                        object\n",
       "br                        object\n",
       "municipio                 object\n",
       "tipo_acidente             object\n",
       "fase_dia                  object\n",
       "condicao_metereologica    object\n",
       "tipo_pista                object\n",
       "dtype: object"
      ]
     },
     "execution_count": 33,
     "metadata": {},
     "output_type": "execute_result"
    }
   ],
   "source": [
    "data = pd.read_csv(\"Dataset/acidentes2007-2020.csv\",usecols=[3,4,5,6,8,10,12,14,15])\n",
    "data.dtypes"
   ]
  },
  {
   "cell_type": "code",
   "execution_count": 34,
   "metadata": {},
   "outputs": [
    {
     "name": "stdout",
     "output_type": "stream",
     "text": [
      "  dia_semana   horario  uf   br        municipio            tipo_acidente  \\\n",
      "0    segunda  15:30:00  MG  381         OLIVEIRA          Colisão Frontal   \n",
      "1    segunda  14:25:00  MG   40        ITABIRITO           Saída de Pista   \n",
      "2    segunda  02:10:00  MA  135         SAO LUIS  Atropelamento de Animal   \n",
      "3      terça  05:30:00  CE  222          CAUCAIA              Capotamento   \n",
      "4    domingo  17:40:00  MA  230  BARAO DE GRAJAU              Capotamento   \n",
      "\n",
      "      fase_dia condicao_metereologica tipo_pista  \n",
      "0    Pleno dia              Céu Claro      Dupla  \n",
      "1    Pleno dia              Céu Claro    Simples  \n",
      "2  Plena noite              Céu Claro    Simples  \n",
      "3    Amanhecer              Céu Claro      Dupla  \n",
      "4    Anoitecer                  Chuva    Simples  \n"
     ]
    }
   ],
   "source": [
    "print(data.head(5))"
   ]
  }
 ],
 "metadata": {
  "kernelspec": {
   "display_name": "Python 3",
   "language": "python",
   "name": "python3"
  },
  "language_info": {
   "codemirror_mode": {
    "name": "ipython",
    "version": 3
   },
   "file_extension": ".py",
   "mimetype": "text/x-python",
   "name": "python",
   "nbconvert_exporter": "python",
   "pygments_lexer": "ipython3",
   "version": "3.10.10"
  },
  "orig_nbformat": 4,
  "vscode": {
   "interpreter": {
    "hash": "e01af327004d5c2acc1513ae4a45ddf8ceb9345bea5a5d22b5a6c96746da2237"
   }
  }
 },
 "nbformat": 4,
 "nbformat_minor": 2
}
