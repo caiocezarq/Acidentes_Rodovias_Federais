{
 "cells": [
  {
   "attachments": {},
   "cell_type": "markdown",
   "metadata": {},
   "source": [
    "Análise de Acidentes nas Rodovias Federais no ano de 2022"
   ]
  },
  {
   "cell_type": "code",
   "execution_count": 61,
   "metadata": {},
   "outputs": [],
   "source": [
    "import numpy as np\n",
    "import matplotlib.pyplot as plt\n",
    "import pandas as pd\n",
    "import seaborn as sns"
   ]
  },
  {
   "cell_type": "code",
   "execution_count": 62,
   "metadata": {},
   "outputs": [],
   "source": [
    "#Definindo estilo de gráfico\n",
    "sns.set(color_codes=True)\n",
    "sns.set_context(\"paper\",font_scale=2)\n",
    "sns.set_style(\"white\")"
   ]
  },
  {
   "cell_type": "code",
   "execution_count": 63,
   "metadata": {},
   "outputs": [
    {
     "data": {
      "text/plain": [
       "data_inversa               object\n",
       "dia_semana                 object\n",
       "uf                         object\n",
       "br                        float64\n",
       "tipo_acidente              object\n",
       "fase_dia                   object\n",
       "condicao_metereologica     object\n",
       "pessoas                     int64\n",
       "dtype: object"
      ]
     },
     "execution_count": 63,
     "metadata": {},
     "output_type": "execute_result"
    }
   ],
   "source": [
    "#Importando arquivo\n",
    "\n",
    "data = pd.read_csv(\"Dataset/datatran2022.csv\", low_memory=False, encoding=\"ISO-8859-1\", on_bad_lines='skip', usecols = [1,2,4,5,9,11,13,17])\n",
    "#Obs: Tive problemas na importação do arquivo original, dessa forma foi necessário adicionar os argumentos acima no read_csv\n",
    "\n",
    "data.dtypes"
   ]
  },
  {
   "cell_type": "code",
   "execution_count": 64,
   "metadata": {},
   "outputs": [
    {
     "ename": "TypeError",
     "evalue": "'tuple' object is not callable",
     "output_type": "error",
     "traceback": [
      "\u001b[1;31m---------------------------------------------------------------------------\u001b[0m",
      "\u001b[1;31mTypeError\u001b[0m                                 Traceback (most recent call last)",
      "\u001b[1;32md:\\Projetos\\Acidentes_Rodovias_Federais\\Acidentes.ipynb Cell 5\u001b[0m in \u001b[0;36m1\n\u001b[1;32m----> <a href='vscode-notebook-cell:/d%3A/Projetos/Acidentes_Rodovias_Federais/Acidentes.ipynb#W4sZmlsZQ%3D%3D?line=0'>1</a>\u001b[0m \u001b[39mprint\u001b[39;49m(data\u001b[39m.\u001b[39;49mhead())\n",
      "\u001b[1;31mTypeError\u001b[0m: 'tuple' object is not callable"
     ]
    }
   ],
   "source": [
    "print(data.head(5))"
   ]
  },
  {
   "cell_type": "code",
   "execution_count": null,
   "metadata": {},
   "outputs": [],
   "source": [
    "# Análise das pessoas envolvidas em cada acidente\n",
    "ps = np.array(data[\"pessoas\"])\n",
    "print(\"Média de Pessoas: \", ps.mean())"
   ]
  },
  {
   "cell_type": "code",
   "execution_count": null,
   "metadata": {},
   "outputs": [],
   "source": [
    "# Frêquencia de Distribuição - Fase do Dia\n",
    "fd = pd.DataFrame(data)\n",
    "fd.plot(kind='bar', x='dia_semana')\n",
    "plt.show()"
   ]
  }
 ],
 "metadata": {
  "kernelspec": {
   "display_name": "Python 3",
   "language": "python",
   "name": "python3"
  },
  "language_info": {
   "codemirror_mode": {
    "name": "ipython",
    "version": 3
   },
   "file_extension": ".py",
   "mimetype": "text/x-python",
   "name": "python",
   "nbconvert_exporter": "python",
   "pygments_lexer": "ipython3",
   "version": "3.10.10"
  },
  "orig_nbformat": 4,
  "vscode": {
   "interpreter": {
    "hash": "e01af327004d5c2acc1513ae4a45ddf8ceb9345bea5a5d22b5a6c96746da2237"
   }
  }
 },
 "nbformat": 4,
 "nbformat_minor": 2
}
